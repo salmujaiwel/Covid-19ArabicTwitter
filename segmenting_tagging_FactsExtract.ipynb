{
 "cells": [
  {
   "cell_type": "code",
   "execution_count": 1,
   "metadata": {},
   "outputs": [
    {
     "name": "stdout",
     "output_type": "stream",
     "text": [
      "Requirement already satisfied: PyICU==2.6 from file:///C:/Users/snmuj/Documents/salm/PyICU-2.6-cp38-cp38-win_amd64.whl in c:\\users\\snmuj\\anaconda3\\lib\\site-packages (2.6)\n",
      "Note: you may need to restart the kernel to use updated packages.\n"
     ]
    }
   ],
   "source": [
    "pip install PyICU-2.6-cp38-cp38-win_amd64.whl"
   ]
  },
  {
   "cell_type": "code",
   "execution_count": null,
   "metadata": {},
   "outputs": [],
   "source": [
    "pip install pycld2-0.41-cp38-cp38-win_amd64.whl"
   ]
  },
  {
   "cell_type": "code",
   "execution_count": null,
   "metadata": {},
   "outputs": [],
   "source": [
    "import os\n",
    "from nltk.parse import stanford as SParse\n",
    "from nltk.tag import stanford as STag\n",
    "from nltk.tokenize import StanfordSegmenter\n",
    "\n",
    "from polyglot.text import Text\n",
    "from rake_nltk import Rake\n",
    "\n",
    "import nltk\n",
    "nltk.download('stopwords')\n",
    "from nltk.corpus import stopwords\n",
    "\n",
    "os.environ['STANFORD_MODELS'] = 'C:\\\\Users\\\\snmuj\\\\OneDrive\\\\Documents\\\\salm\\\\stanford-segmenter-2018-10-16\\\\data;C:\\\\Users\\\\lenovo\\\\Documents\\\\salm\\\\stanford-postagger-full-2018-10-16\\\\models'\n",
    "os.environ['STANFORD_PARSER'] = 'C:\\\\Users\\\\snmuj\\\\OneDrive\\\\Documents\\\\salm\\\\stanford-parser-full-2018-10-17'\n",
    "os.environ['CLASSPATH'] = 'C:\\\\Users\\\\snmuj\\\\OneDrive\\\\Documents\\\\stanford-parser-full-2018-10-17'\n",
    "os.environ['JAVAHOME'] = 'C:\\Program Files\\Java\\jdk-14.0.2_windows-x64_bin.exe'"
   ]
  },
  {
   "cell_type": "code",
   "execution_count": null,
   "metadata": {},
   "outputs": [],
   "source": [
    "segmenter = StanfordSegmenter('C:\\\\Users\\\\snmuj\\\\OneDrive\\\\Documents\\\\salm\\\\stanford-segmenter-2018-10-16\\\\stanford-segmenter-3.9.2.jar')\n",
    "segmenter.default_config('ar')\n",
    "text = segmenter.segment_file('text file')\n",
    "print(text)"
   ]
  },
  {
   "cell_type": "code",
   "execution_count": null,
   "metadata": {},
   "outputs": [],
   "source": [
    "tagger = STag.StanfordPOSTagger('arabic.tagger', 'C:\\\\Users\\\\snmuj\\\\OneDrive\\\\Documents\\\\stanford-postagger-full-2018-10-16\\\\stanford-postagger.jar')\n",
    "for tag in tagger.tag(text.split()):\n",
    "\tprint(tag[1])"
   ]
  },
  {
   "cell_type": "code",
   "execution_count": null,
   "metadata": {},
   "outputs": [],
   "source": [
    "parser = SParse.StanfordParser(model_path='edu/stanford/nlp/models/lexparser/arabicFactored.ser.gz')\n",
    "sentences = parser.raw_parse_sents(text.split('.'))\n",
    "for line in sentences:\n",
    "\tfor sentence in line:\n",
    "\t\tprint(sentence)\n",
    "sentence.draw()"
   ]
  },
  {
   "cell_type": "code",
   "execution_count": null,
   "metadata": {},
   "outputs": [],
   "source": [
    "from polyglot.text import Text\n",
    "text = Text(text)\n",
    "for sent in text.sentences:\n",
    "    print(sent, \"\\n\")\n",
    "    for entity in sent.entities:\n",
    "        print(entity.tag, entity)"
   ]
  },
  {
   "cell_type": "code",
   "execution_count": null,
   "metadata": {},
   "outputs": [],
   "source": [
    "with open(r'text file', encoding='utf-8') as file:\n",
    "    novels = file.read()\n",
    "print(novels[:106])"
   ]
  },
  {
   "cell_type": "code",
   "execution_count": null,
   "metadata": {},
   "outputs": [],
   "source": [
    "import nltk\n",
    "from nltk.corpus import stopwords\n",
    "nltk.download(\"stopwords\")\n",
    "arb_stopwords = set(nltk.corpus.stopwords.words(\"arabic\"))\n",
    "\n",
    "# Get Arabic stopwords and print some of them\n",
    "arb_stopwords = (nltk.corpus.stopwords.words('arabic'))\n",
    "arb_stopwords[:414]"
   ]
  },
  {
   "cell_type": "code",
   "execution_count": null,
   "metadata": {},
   "outputs": [],
   "source": [
    "from rake_nltk import Rake"
   ]
  },
  {
   "cell_type": "code",
   "execution_count": null,
   "metadata": {},
   "outputs": [],
   "source": [
    "rake = Rake(stopwords=stopwords.words('arabic'), punctuations=',./»:،؛\":.,’،\\''.split(), language='arabic', max_length=3)\n",
    "rake.extract_keywords_from_text(novels)\n",
    "for phrase in rake.get_ranked_phrases()[:24]:\n",
    " print(phrase)"
   ]
  }
 ],
 "metadata": {
  "kernelspec": {
   "display_name": "Python 3",
   "language": "python",
   "name": "python3"
  },
  "language_info": {
   "codemirror_mode": {
    "name": "ipython",
    "version": 3
   },
   "file_extension": ".py",
   "mimetype": "text/x-python",
   "name": "python",
   "nbconvert_exporter": "python",
   "pygments_lexer": "ipython3",
   "version": "3.8.3"
  }
 },
 "nbformat": 4,
 "nbformat_minor": 4
}
